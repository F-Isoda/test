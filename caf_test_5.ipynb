{
 "cells": [
  {
   "cell_type": "code",
   "execution_count": 1,
   "metadata": {},
   "outputs": [],
   "source": [
    "import numpy as np\n",
    "import cmath\n",
    "import matplotlib.pyplot as plt\n",
    "from scipy.signal import correlate"
   ]
  },
  {
   "cell_type": "code",
   "execution_count": 2,
   "metadata": {},
   "outputs": [],
   "source": [
    "sampling_rate = 10000 #in Hz \n",
    "time_length = 1 #  second\n",
    "dt = 1/sampling_rate # sampling frequency\n",
    "N = int(sampling_rate*time_length) # sample number"
   ]
  },
  {
   "cell_type": "code",
   "execution_count": 3,
   "metadata": {},
   "outputs": [
    {
     "name": "stdout",
     "output_type": "stream",
     "text": [
      "10000\n"
     ]
    }
   ],
   "source": [
    "x0= 0 + 0j\n",
    "f0= 440\n",
    "f1= 420\n",
    "ff= 880 #周波数をN回シフトさせる。n回目のシフト量は、dt*n*π*/2 これにラグがかかる\n",
    "t = np.arange(0, time_length, dt)\n",
    "df = np.arange(-440,440,1)\n",
    "\n",
    "mat = np.zeros((ff,len(t)*2-1), dtype=complex) #ここに（周波数シフト、ラグ）のマトリックスを格納する\n",
    "\n",
    "#その他配列の宣言\n",
    "#que= np.zeros((len(t)), dtype=complex)\n",
    "#y0 = np.zeros((len(t)), dtype=complex)\n",
    "#y1 = np.zeros((len(t)), dtype=complex)\n",
    "#y01 = np.zeros((len(t)), dtype=complex)\n",
    "#Amp = np.zeros((ff,len(t)), dtype=float)\n",
    "que= np.zeros((len(df)), dtype=complex)\n",
    "y0 = np.zeros((len(df)), dtype=complex)\n",
    "y1 = np.zeros((len(df)), dtype=complex)\n",
    "y11 = np.zeros((len(df)), dtype=complex)\n",
    "y01 = np.zeros((len(df)), dtype=complex)\n",
    "Amp = np.zeros((ff,len(df)), dtype=float)\n",
    "print(len(t))\n",
    "#print(df)"
   ]
  },
  {
   "cell_type": "code",
   "execution_count": 4,
   "metadata": {},
   "outputs": [],
   "source": [
    "f0=440\n",
    "f1=420\n",
    "ff=880\n",
    "\n",
    "for ddf in range(ff):\n",
    "    #print(ddf)\n",
    "    y0=np.exp(2j*np.pi*f0*t) #時系列データS1\n",
    "    y1=np.exp(2j*np.pi*f1*t) #時系列データS2　周波数がS1とは異なる\n",
    "    \n",
    "    y11 = y1 * np.exp(2j * (ddf-440) * np.pi * t) #ddf-440は周波数　これも時系列データ\n",
    "    \n",
    "    #y01 = y0 * y1 * np.exp(2j*ddf*np.pi*t)\n",
    "\n",
    "    que0 = correlate(y0, y11, mode='full')\n",
    "\n",
    "    mat[ddf:] = que0[:]\n",
    "\n",
    "#print(ddf)    "
   ]
  },
  {
   "cell_type": "code",
   "execution_count": 5,
   "metadata": {},
   "outputs": [
    {
     "name": "stdout",
     "output_type": "stream",
     "text": [
      "880 19999 19999 880\n"
     ]
    }
   ],
   "source": [
    "mt = 1/10000\n",
    "X= np.arange(-1,1-mt,1/10000)\n",
    "\n",
    "mf = 1\n",
    "Y= np.arange(-440,440,1)\n",
    "#Z = mat\n",
    "print(len(mat[:,0]), len(mat[0,:]),len(X),len(Y))"
   ]
  },
  {
   "cell_type": "code",
   "execution_count": 8,
   "metadata": {},
   "outputs": [
    {
     "name": "stderr",
     "output_type": "stream",
     "text": [
      "/home/isoda/work/mdapper/.venv/lib/python3.12/site-packages/matplotlib/contour.py:1568: ComplexWarning: Casting complex values to real discards the imaginary part\n",
      "  self.zmax = z.max().astype(float)\n",
      "/home/isoda/work/mdapper/.venv/lib/python3.12/site-packages/matplotlib/contour.py:1569: ComplexWarning: Casting complex values to real discards the imaginary part\n",
      "  self.zmin = z.min().astype(float)\n",
      "/home/isoda/work/mdapper/.venv/lib/python3.12/site-packages/numpy/ma/core.py:2820: ComplexWarning: Casting complex values to real discards the imaginary part\n",
      "  _data = np.array(data, dtype=dtype, copy=copy,\n"
     ]
    },
    {
     "data": {
      "text/plain": [
       "(0.0, 40.0)"
      ]
     },
     "execution_count": 8,
     "metadata": {},
     "output_type": "execute_result"
    },
    {
     "data": {
      "image/png": "[encoded data removed]",
      "text/plain": [
       "<Figure size 640x480 with 2 Axes>"
      ]
     },
     "metadata": {},
     "output_type": "display_data"
    }
   ],
   "source": [
    "fig, ax = plt.subplots()\n",
    "\n",
    "CS = ax.contourf(X,Y,mat)\n",
    "\n",
    "fig.colorbar(CS)\n",
    "\n",
    "#plt.contourf(((X,Y,mat)))\n",
    "plt.xlabel(\"dt\")\n",
    "plt.ylabel(\"df\")\n",
    "plt.ylim([0,40])\n"
   ]
  },
  {
   "cell_type": "code",
   "execution_count": null,
   "metadata": {},
   "outputs": [],
   "source": [
    "from scipy.signal import find_peaks\n",
    "\n",
    "peak_dt=[]\n",
    "mat2 = np.zeros((20,len(t)*2-1), dtype=complex) #ここに（周波数シフト、ラグ）のマトリックスを格納する\n",
    "\n",
    "mat2 = mat[450:470,:]\n",
    "\n",
    "for i in range(19):\n",
    "    peak,_=find_peaks(mat2[i,:])\n",
    "    #print(len(peak))\n",
    "    if len(peak) > 0:\n",
    "        peaks = np.array(peak)\n",
    "        for k in range(len(peak)):\n",
    "            if mat2[i,peak[k]] > 0:\n",
    "                peaks[k] = mat2[i,peak[k]]\n",
    "                mpeaks=max(peaks)\n",
    "    \n",
    "    print(i, mpeaks,abs(mat2[i,mpeaks]))\n",
    "\n",
    "    #peak_dt.append(peak)\n",
    "\n",
    "#print(max(peak_dt))\n",
    "#20行だけ取り出して、ピークのあった行の、最高値のｘ座標と、その時のピークの値（Abs）を求めると\n",
    "#dt=　10000のところで最高値9999になっている。なので、CAFは周波数シフト40Hz、タイムシフト0秒で（サンプル数10000に対して、\n",
    "#相互相関は±10000の範囲で相関を取るため。それを0から並べているため）最大になる"
   ]
  },
  {
   "cell_type": "code",
   "execution_count": null,
   "metadata": {},
   "outputs": [],
   "source": [
    "print((mat2[10,:]))"
   ]
  },
  {
   "cell_type": "code",
   "execution_count": null,
   "metadata": {},
   "outputs": [],
   "source": []
  }
 ],
 "metadata": {
  "kernelspec": {
   "display_name": ".venv",
   "language": "python",
   "name": "python3"
  },
  "language_info": {
   "codemirror_mode": {
    "name": "ipython",
    "version": 3
   },
   "file_extension": ".py",
   "mimetype": "text/x-python",
   "name": "python",
   "nbconvert_exporter": "python",
   "pygments_lexer": "ipython3",
   "version": "3.12.3"
  }
 },
 "nbformat": 4,
 "nbformat_minor": 2
}
