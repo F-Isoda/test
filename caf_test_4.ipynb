{
 "cells": [
  {
   "cell_type": "code",
   "execution_count": 1,
   "metadata": {},
   "outputs": [],
   "source": [
    "import numpy as np\n",
    "import cmath\n",
    "import matplotlib.pyplot as plt\n",
    "from scipy.signal import correlate"
   ]
  },
  {
   "cell_type": "code",
   "execution_count": 2,
   "metadata": {},
   "outputs": [],
   "source": [
    "sampling_rate = 10000 #in Hz \n",
    "time_length = 1 #  second\n",
    "dt = 1/sampling_rate # sampling frequency\n",
    "N = int(sampling_rate*time_length) # sample number"
   ]
  },
  {
   "cell_type": "code",
   "execution_count": 3,
   "metadata": {},
   "outputs": [
    {
     "name": "stdout",
     "output_type": "stream",
     "text": [
      "10000\n"
     ]
    }
   ],
   "source": [
    "x0= 0 + 0j\n",
    "f0= 440\n",
    "f1= 420\n",
    "ff= N #周波数をN回シフトさせる。n回目のシフト量は、dt*n*π*/2 これにラグがかかる\n",
    "t = np.arange(0, time_length, dt)\n",
    "df = np.arange(-440,440,1)\n",
    "\n",
    "mat = np.zeros((ff,len(t)*2-1), dtype=complex) #ここに（周波数シフト、ラグ）のマトリックスを格納する\n",
    "\n",
    "#その他配列の宣言\n",
    "#que= np.zeros((len(t)), dtype=complex)\n",
    "#y0 = np.zeros((len(t)), dtype=complex)\n",
    "#y1 = np.zeros((len(t)), dtype=complex)\n",
    "#y01 = np.zeros((len(t)), dtype=complex)\n",
    "#Amp = np.zeros((ff,len(t)), dtype=float)\n",
    "que= np.zeros((len(df)), dtype=complex)\n",
    "y0 = np.zeros((len(df)), dtype=complex)\n",
    "y1 = np.zeros((len(df)), dtype=complex)\n",
    "y11 = np.zeros((len(df)), dtype=complex)\n",
    "y01 = np.zeros((len(df)), dtype=complex)\n",
    "Amp = np.zeros((ff,len(df)), dtype=float)\n",
    "print(len(t))\n",
    "#print(df)"
   ]
  },
  {
   "cell_type": "code",
   "execution_count": null,
   "metadata": {},
   "outputs": [],
   "source": [
    "#時系列だけ配列にして、Δfを一定にして図を描いてみる\n",
    "ddf=0\n",
    "f0=440\n",
    "f1=420\n",
    "\n",
    "\n",
    "#y0=np.exp(2j*np.pi*f0*t) #時系列データS1\n",
    "#y1=np.exp(2j*np.pi*f1*t) #時系列データS2　周波数がS1とは異なる\n",
    "\n",
    "y0 = np.sin(2*np.pi*f0*t)\n",
    "y1=  np.sin(2*np.pi*f1*t)\n",
    "\n",
    "y11 = y1 * np.exp(1j * (f0-f1) * np.pi * t)\n",
    "\n",
    "#ただの相互相関、ただしy1にexp(jΔfπt)がかかっている\n",
    "\n",
    "que0 = correlate(y0, y11, mode='full')\n",
    "xx=[440,440]\n",
    "yy=[-15,15]\n",
    "plt.plot(que0)\n",
    "#plt.plot(xx,yy)\n",
    "#plt.xlim([400,460])\n"
   ]
  },
  {
   "cell_type": "code",
   "execution_count": 21,
   "metadata": {},
   "outputs": [],
   "source": [
    "f0=440\n",
    "f1=420\n",
    "\n",
    "for ddf in range(880):\n",
    "    #print(ddf)\n",
    "    y0=np.exp(2j*np.pi*f0*t) #時系列データS1\n",
    "    y1=np.exp(2j*np.pi*f1*t) #時系列データS2　周波数がS1とは異なる\n",
    "    \n",
    "    y11 = y1 * np.exp(1j * (ddf-440) * np.pi * t) #ddf-440は周波数　これも時系列データ\n",
    "    \n",
    "    #y01 = y0 * y1 * np.exp(2j*ddf*np.pi*t)\n",
    "\n",
    "    que0 = correlate(y0, y11, mode='full')\n",
    "\n",
    "    mat[ddf:] = que0[:]\n",
    "\n",
    "#print(ddf)    "
   ]
  },
  {
   "cell_type": "code",
   "execution_count": null,
   "metadata": {},
   "outputs": [
    {
     "name": "stderr",
     "output_type": "stream",
     "text": [
      "/home/isoda/work/mdapper/.venv/lib/python3.12/site-packages/matplotlib/contour.py:1568: ComplexWarning: Casting complex values to real discards the imaginary part\n",
      "  self.zmax = z.max().astype(float)\n",
      "/home/isoda/work/mdapper/.venv/lib/python3.12/site-packages/matplotlib/contour.py:1569: ComplexWarning: Casting complex values to real discards the imaginary part\n",
      "  self.zmin = z.min().astype(float)\n",
      "/home/isoda/work/mdapper/.venv/lib/python3.12/site-packages/numpy/ma/core.py:2820: ComplexWarning: Casting complex values to real discards the imaginary part\n",
      "  _data = np.array(data, dtype=dtype, copy=copy,\n"
     ]
    },
    {
     "data": {
      "text/plain": [
       "(470.0, 490.0)"
      ]
     },
     "execution_count": 5,
     "metadata": {},
     "output_type": "execute_result"
    },
    {
     "data": {
      "image/png": "[encoded data removed]",
      "text/plain": [
       "<Figure size 640x480 with 1 Axes>"
      ]
     },
     "metadata": {},
     "output_type": "display_data"
    }
   ],
   "source": [
    "plt.contourf(((mat)))\n",
    "plt.xlabel(\"dt\")\n",
    "plt.ylabel(\"df\")\n",
    "plt.ylim([470,490])\n",
    "#複素数でコンターってどうやって書いたんだろう！！"
   ]
  },
  {
   "cell_type": "code",
   "execution_count": null,
   "metadata": {},
   "outputs": [
    {
     "name": "stderr",
     "output_type": "stream",
     "text": [
      "/home/isoda/work/mdapper/.venv/lib/python3.12/site-packages/scipy/signal/_peak_finding.py:266: ComplexWarning: Casting complex values to real discards the imaginary part\n",
      "  value = np.asarray(value, order='C', dtype=np.float64)\n",
      "/tmp/ipykernel_1159280/1811311150.py:15: ComplexWarning: Casting complex values to real discards the imaginary part\n",
      "  peaks[k] = mat2[i,peak[k]]\n"
     ]
    },
    {
     "name": "stdout",
     "output_type": "stream",
     "text": [
      "0 635 535.3621687152493\n",
      "1 707 595.5672457038129\n",
      "2 795 669.7432046935589\n",
      "3 2857 0.8571429029695126\n",
      "4 1060 892.8107713222621\n",
      "5 1272 1071.264798206163\n",
      "6 1591 1339.4861449831096\n",
      "7 2121 1785.621344381524\n",
      "8 3182 2678.4319614992332\n",
      "9 6365 5356.8638569108\n",
      "10 10000 9999.000000000004\n",
      "11 6365 5356.863856910845\n",
      "12 9999 3.3155606867112274e-11\n",
      "13 2121 1785.6213443815313\n",
      "14 9999 3.53649131097754e-11\n",
      "15 1273 1071.8049284101573\n",
      "16 9999 1.6998231642361715e-11\n",
      "17 2857 0.8571429029633219\n",
      "18 9999 1.1753958738703226e-11\n"
     ]
    }
   ],
   "source": [
    "from scipy.signal import find_peaks\n",
    "\n",
    "peak_dt=[]\n",
    "mat2 = np.zeros((20,len(t)*2-1), dtype=complex) #ここに（周波数シフト、ラグ）のマトリックスを格納する\n",
    "\n",
    "mat2 = mat[470:490,:]\n",
    "\n",
    "for i in range(19):\n",
    "    peak,_=find_peaks(mat2[i,:])\n",
    "    #print(len(peak))\n",
    "    if len(peak) > 0:\n",
    "        peaks = np.array(peak)\n",
    "        for k in range(len(peak)):\n",
    "            if mat2[i,peak[k]] > 0:\n",
    "                peaks[k] = mat2[i,peak[k]]\n",
    "                mpeaks=max(peaks)\n",
    "    \n",
    "    print(i, mpeaks,abs(mat2[i,mpeaks]))\n",
    "\n",
    "    #peak_dt.append(peak)\n",
    "\n",
    "#print(max(peak_dt))\n",
    "#20行だけ取り出して、ピークのあった行の、最高値のｘ座標と、その時のピークの値（Abs）を求めると\n",
    "#dt=　10000のところで最高値9999になっている。なので、CAFは周波数シフト40Hz、タイムシフト0秒で（サンプル数10000に対して、\n",
    "#相互相関は±10000の範囲で相関を取るため。それを0から並べているため）最大になる"
   ]
  },
  {
   "cell_type": "code",
   "execution_count": 38,
   "metadata": {},
   "outputs": [
    {
     "name": "stdout",
     "output_type": "stream",
     "text": [
      "[0.96202767+0.27295194j 1.70198896+1.05034926j 2.02599842+2.21253935j ...\n",
      " 2.02599842-2.21253935j 1.70198896-1.05034926j 0.96202767-0.27295194j]\n"
     ]
    }
   ],
   "source": [
    "print((mat2[10,:]))"
   ]
  },
  {
   "cell_type": "code",
   "execution_count": null,
   "metadata": {},
   "outputs": [],
   "source": []
  }
 ],
 "metadata": {
  "kernelspec": {
   "display_name": ".venv",
   "language": "python",
   "name": "python3"
  },
  "language_info": {
   "codemirror_mode": {
    "name": "ipython",
    "version": 3
   },
   "file_extension": ".py",
   "mimetype": "text/x-python",
   "name": "python",
   "nbconvert_exporter": "python",
   "pygments_lexer": "ipython3",
   "version": "3.12.3"
  }
 },
 "nbformat": 4,
 "nbformat_minor": 2
}
